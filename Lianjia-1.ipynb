{
 "cells": [
  {
   "cell_type": "code",
   "execution_count": 63,
   "metadata": {
    "scrolled": false
   },
   "outputs": [
    {
     "name": "stdout",
     "output_type": "stream",
     "text": [
      "2018-03-01 22:53:00.345855\n",
      "Downloading page http://nj.lianjia.com/ershoufang/pg1...\n",
      "Done.\n"
     ]
    },
    {
     "name": "stderr",
     "output_type": "stream",
     "text": [
      "D:\\Program Files\\Anaconda\\lib\\site-packages\\bs4\\__init__.py:181: UserWarning: No parser was explicitly specified, so I'm using the best available HTML parser for this system (\"lxml\"). This usually isn't a problem, but if you run this code on another system, or in a different virtual environment, it may use a different parser and behave differently.\n",
      "\n",
      "The code that caused this warning is on line 193 of the file D:\\Program Files\\Anaconda\\lib\\runpy.py. To get rid of this warning, change code that looks like this:\n",
      "\n",
      " BeautifulSoup(YOUR_MARKUP})\n",
      "\n",
      "to this:\n",
      "\n",
      " BeautifulSoup(YOUR_MARKUP, \"lxml\")\n",
      "\n",
      "  markup_type=markup_type))\n"
     ]
    }
   ],
   "source": [
    "import requests\n",
    "import os\n",
    "import bs4\n",
    "import csv\n",
    "import numpy as np\n",
    "from datetime import datetime\n",
    "print(datetime.now())\n",
    "os.makedirs('lianjia', exist_ok=True) \n",
    "page = 1\n",
    "outputFile = open('G:\\\\Python\\\\Lianjia.csv', 'a', newline='', encoding = 'utf-8')\n",
    "outputWriter = csv.writer(outputFile,dialect = 'excel')\n",
    "comicElem1 = []\n",
    "comicElem2 = []\n",
    "comicElem3 = []\n",
    "comicElem4 = []\n",
    "row1 = ['Title']\n",
    "row2 = ['TotalPrice']\n",
    "row3 = ['UnitPrice']\n",
    "row4 = ['HouseInfo']\n",
    "L = ['Location']\n",
    "S = ['Size']\n",
    "A = ['Area']\n",
    "D = ['Direction']\n",
    "while page <=100:\n",
    "    url = 'http://nj.lianjia.com/ershoufang/' + 'pg'\n",
    "    url = 'http://nj.lianjia.com/ershoufang/' + 'pg' + str(page)\n",
    "    print('Downloading page %s...' %url)\n",
    "    res = requests.get(url)\n",
    "    res.raise_for_status()\n",
    "    soup = bs4.BeautifulSoup(res.text)\n",
    "    comicElem1 = comicElem1 + soup.select('.content .title a')\n",
    "    comicElem2 = comicElem2 + soup.select('.totalPrice')\n",
    "    comicElem3 = comicElem3 + soup.select('.unitPrice')\n",
    "    comicElem4 = comicElem4 + soup.select('.houseInfo')\n",
    "    page = page + 1\n",
    "    list = []\n",
    "if comicElem1 == [] or comicElem2 == [] or comicElem3 == [] or comicElem4 == []:\n",
    "    print('Could not find the text.')\n",
    "for i in range(30 * int(page-1)):\n",
    "    value = 0\n",
    "    b = 0\n",
    "    row1.append(comicElem1[i].text)\n",
    "    row2.append((comicElem2[i].text.split('万'))[0])\n",
    "    row3.append(comicElem3[i].text[2:7])\n",
    "    value = comicElem4[i].text.split(' | ')\n",
    "    a = value\n",
    "    for e in a:\n",
    "        if e.find('平米'):\n",
    "            pos = e.find('平米')\n",
    "            if pos != -1:\n",
    "                b = e[ :pos]\n",
    "                L.append(value[0])\n",
    "                S.append(value[1])\n",
    "                A.append(b)\n",
    "                D.append(value[3])\n",
    "                list = [row1[i], row2[i], row3[i],S[i],A[i],D[i],L[i]]\n",
    "                outputWriter.writerow(list)\n",
    "outputFile.close()\n",
    "print('Done.')"
   ]
  },
  {
   "cell_type": "code",
   "execution_count": null,
   "metadata": {
    "collapsed": true
   },
   "outputs": [],
   "source": []
  }
 ],
 "metadata": {
  "kernelspec": {
   "display_name": "Python 3",
   "language": "python",
   "name": "python3"
  },
  "language_info": {
   "codemirror_mode": {
    "name": "ipython",
    "version": 3
   },
   "file_extension": ".py",
   "mimetype": "text/x-python",
   "name": "python",
   "nbconvert_exporter": "python",
   "pygments_lexer": "ipython3",
   "version": "3.6.3"
  }
 },
 "nbformat": 4,
 "nbformat_minor": 2
}
